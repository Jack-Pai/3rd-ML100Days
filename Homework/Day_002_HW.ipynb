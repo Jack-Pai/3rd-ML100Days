{
 "cells": [
  {
   "cell_type": "markdown",
   "metadata": {},
   "source": [
    "## [作業目標]\n",
    "了解機器學習適合應用的領域與範疇。"
   ]
  },
  {
   "cell_type": "markdown",
   "metadata": {},
   "source": [
    "## [作業重點]\n",
    "透過瞭解機器學習的運作方式，找出非常適用機器學習應用的領域及其原因"
   ]
  },
  {
   "cell_type": "markdown",
   "metadata": {},
   "source": [
    "## 作業\n",
    "請找出一個你認為機器學習可以發光發熱的領域並闡述原因? "
   ]
  },
  {
   "cell_type": "code",
   "execution_count": null,
   "metadata": {},
   "outputs": [],
   "source": [
    "醫學影像自動判讀，將全世界醫師判讀診斷的醫學影像圖片存取成大資料庫，\n",
    "藉由「監督式學習」使電腦瞭解醫學影像圖片(x)與醫師判讀診斷結果(y)之間的關聯性。\n",
    "應用於開發「醫學影像自動判讀軟體」隨機給予醫學影像圖片(X)，電腦自動連結過去醫師判讀診斷結果(Y)。\n",
    "以往人工判讀仰賴醫學生的經驗累積，藉由電腦軟體自動判讀醫學影像可減少較資遣醫學生判讀錯誤的風險。\n",
    "此外，希望配合電腦自主「強化學習」，給予「環境」存取每次醫學影像圖片自動判讀結果；\n",
    "「代理機器人」提供不同醫學影像圖片刺激電腦學習；\n",
    "透過「獎勵」機制驗證軟體自動判讀結果並驗證其正確性，藉此提高醫學影像自動判讀的準確度。\n",
    "此外，可開發「病人主述症狀對應處方用藥軟體」，將部分輕微適應症交由電腦醫生開立處方用藥，可減輕醫師門診負擔。"
   ]
  }
 ],
 "metadata": {
  "kernelspec": {
   "display_name": "Python 3",
   "language": "python",
   "name": "python3"
  },
  "language_info": {
   "codemirror_mode": {
    "name": "ipython",
    "version": 3
   },
   "file_extension": ".py",
   "mimetype": "text/x-python",
   "name": "python",
   "nbconvert_exporter": "python",
   "pygments_lexer": "ipython3",
   "version": "3.7.3"
  }
 },
 "nbformat": 4,
 "nbformat_minor": 2
}
