{
 "cells": [
  {
   "cell_type": "markdown",
   "metadata": {},
   "source": [
    "## 練習時間\n",
    "#### 請寫一個函式用來計算 Mean Square Error\n",
    "$ MSE = \\frac{1}{n}\\sum_{i=1}^{n}{(Y_i - \\hat{Y}_i)^2} $\n",
    "\n",
    "### Hint: [如何取平方](https://googoodesign.gitbooks.io/-ezpython/unit-1.html)"
   ]
  },
  {
   "cell_type": "markdown",
   "metadata": {},
   "source": [
    "# [作業目標]\n",
    "- 仿造範例的MAE函數, 自己寫一個MSE函數(參考上面公式)"
   ]
  },
  {
   "cell_type": "markdown",
   "metadata": {},
   "source": [
    "# [作業重點]\n",
    "- 注意程式的縮排\n",
    "- 是否能將數學公式, 轉換為 Python 的函式組合? (In[2], Out[2])"
   ]
  },
  {
   "cell_type": "code",
   "execution_count": null,
   "metadata": {
    "collapsed": true
   },
   "outputs": [],
   "source": [
    "# 載入基礎套件與代稱\n",
    "import numpy as np\n",
    "import matplotlib.pyplot as plt"
   ]
  },
  {
   "cell_type": "code",
   "execution_count": null,
   "metadata": {
    "collapsed": true
   },
   "outputs": [],
   "source": [
    "def mean_absolute_error(y, yp):\n",
    "    \"\"\"\n",
    "    計算 MAE\n",
    "    Args:\n",
    "        - y: 實際值\n",
    "        - yp: 預測值\n",
    "    Return:\n",
    "        - mae: MAE\n",
    "    \"\"\"\n",
    "    mae = MAE = sum(abs(y - yp)) / len(y)\n",
    "    return mae\n",
    "\n",
    "# 定義 mean_squared_error 這個函數, 計算並傳回 MSE\n",
    "def mean_squared_error():\n",
    "    \"\"\"\n",
    "    請完成這個 Function 後往下執行\n",
    "    \"\"\""
   ]
  },
  {
   "cell_type": "code",
   "execution_count": null,
   "metadata": {
    "collapsed": true
   },
   "outputs": [],
   "source": [
    "# 與範例相同, 不另外解說\n",
    "w = 3\n",
    "b = 0.5\n",
    "x_lin = np.linspace(0, 100, 101)\n",
    "y = (x_lin + np.random.randn(101) * 5) * w + b\n",
    "\n",
    "plt.plot(x_lin, y, 'b.', label = 'data points')\n",
    "plt.title(\"Assume we have data points\")\n",
    "plt.legend(loc = 2)\n",
    "plt.show()"
   ]
  },
  {
   "cell_type": "code",
   "execution_count": null,
   "metadata": {
    "collapsed": true
   },
   "outputs": [],
   "source": [
    "# 與範例相同, 不另外解說\n",
    "y_hat = x_lin * w + b\n",
    "plt.plot(x_lin, y, 'b.', label = 'data')\n",
    "plt.plot(x_lin, y_hat, 'r-', label = 'prediction')\n",
    "plt.title(\"Assume we have data points (And the prediction)\")\n",
    "plt.legend(loc = 2)\n",
    "plt.show()"
   ]
  },
  {
   "cell_type": "code",
   "execution_count": null,
   "metadata": {},
   "outputs": [],
   "source": [
    "# 執行 Function, 確認有沒有正常執行\n",
    "MSE = mean_squared_error(y, y_hat)\n",
    "MAE = mean_absolute_error(y, y_hat)\n",
    "print(\"The Mean squared error is %.3f\" % (MSE))\n",
    "print(\"The Mean absolute error is %.3f\" % (MAE))"
   ]
  },
  {
   "cell_type": "code",
   "execution_count": 1,
   "metadata": {},
   "outputs": [
    {
     "name": "stdout",
     "output_type": "stream",
     "text": [
      "The Mean squared error is 227.161\n"
     ]
    }
   ],
   "source": [
    "import numpy as np\n",
    "w = 3\n",
    "b = 0.5\n",
    "x_lin = np.linspace(0, 100, 101)\n",
    "y = (x_lin + np.random.randn(101) * 5) * w + b\n",
    "y_hat = x_lin * w + b\n",
    "\n",
    "def mean_squared_error(y,yp):\n",
    "    mse = sum((y-yp)**2) / len(y)\n",
    "    return mse\n",
    "MSE = mean_squared_error(y, y_hat)\n",
    "print(\"The Mean squared error is %.3f\" % (MSE))"
   ]
  },
  {
   "cell_type": "markdown",
   "metadata": {},
   "source": [
    "# [作業2]\n",
    "\n",
    "請上 Kaggle, 在 Competitions 或 Dataset 中找一組競賽或資料並寫下：\n",
    "\n",
    "Kaggle Dataset: https://www.kaggle.com/cms/cms-medicare\n",
    "\n",
    "1. 你選的這組資料為何重要\n",
    "Medicare為西元1966年起美國政府支持的健康保險系統，主要協助65歲以上長者及部分年輕族群給付醫療及處方藥費用。藉由分析Medicare每年給付的醫療項目，可以得知美國國人常見的疾病，特定適應症常用的處方，以及處方用藥藥價逐年變化情形等。\n",
    "\n",
    "2. 資料從何而來 (tips: 譬如提供者是誰、以什麼方式蒐集)\n",
    "Medicare資料由美國聯邦醫療保險和補助服務中心(Centers for Medicare and Medicaid Services, CMS)提供之公開資訊，蒐集美國國人依照Medicare申請之給付醫療項目，如住院費用、處方用藥等。\n",
    "\n",
    "3. 蒐集而來的資料型態為何\n",
    "資料型態為結構化資料，以表格呈現各項數值，例如：計算平均每人每年給付醫療費用、平均住院天數等。\n",
    "\n",
    "4. 這組資料想解決的問題如何評估\n",
    "評估指標可分為「分類指標」和「回歸指標」，以Medicare所得資料多為資料點散佈圖，以回歸指標分析資料趨勢。\n",
    "\n",
    "\n",
    "# [作業3]\n",
    "\n",
    "想像你經營一個自由載客車隊，你希望能透過數據分析以提升業績，請你思考並描述你如何規劃整體的分析/解決方案：\n",
    "\n",
    "1. 核心問題為何 (tips：如何定義 「提升業績 & 你的假設」)\n",
    "如何提升業績：使車隊司機單位時間內載客數量提升，司機空車等待時數下降。\n",
    "假設：依照衛星定位系統就近媒合乘客與司機，希望藉此提升司機業績。\n",
    "\n",
    "2. 資料從何而來 (tips：哪些資料可能會對你想問的問題產生影響 & 資料如何蒐集)\n",
    "依照手機APP分為乘客端及司機端，由乘客輸入目前位置及欲前往地點，依照系統估算衛星定位就近車輛進行司機媒合派遣。(提升單位時間內載客數量)\n",
    "系統依照路程距離自動估算乘車時間， 依照車隊司機空車等待時數優先媒合派遣。(減少司機空車等待時數)\n",
    "\n",
    "3. 蒐集而來的資料型態為何\n",
    "資料型態為結構化資料，如依照衛星定位乘客與司機位置(經緯度)，經由計算得到距離。\n",
    "空車時數計算，依照司機完成前一位乘客運載起算時間，直到下一位乘客成功媒合派遣的時間差。\n",
    "\n",
    "4. 你要回答的問題，其如何評估 (tips：你的假設如何驗證)\n",
    "比較司機加入車隊APP前後，單位時間內載客數量是否提升？以及每日平均空車等待時數是否下降？\n",
    "以分類指標評估比較使用車隊APP前後，業績是否提升？\n"
   ]
  }
 ],
 "metadata": {
  "anaconda-cloud": {},
  "kernelspec": {
   "display_name": "Python 3",
   "language": "python",
   "name": "python3"
  },
  "language_info": {
   "codemirror_mode": {
    "name": "ipython",
    "version": 3
   },
   "file_extension": ".py",
   "mimetype": "text/x-python",
   "name": "python",
   "nbconvert_exporter": "python",
   "pygments_lexer": "ipython3",
   "version": "3.7.3"
  }
 },
 "nbformat": 4,
 "nbformat_minor": 1
}
