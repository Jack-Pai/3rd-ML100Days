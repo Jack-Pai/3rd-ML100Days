{
 "cells": [
  {
   "cell_type": "markdown",
   "metadata": {},
   "source": [
    "## [作業目標]\n",
    "持續接觸有關機器學習的相關專案與最新技術"
   ]
  },
  {
   "cell_type": "markdown",
   "metadata": {},
   "source": [
    "## [作業重點]\n",
    "透過觀察頂尖公司的機器學習文章，來了解各公司是怎麼應用機器學習在實際的專案上"
   ]
  },
  {
   "cell_type": "markdown",
   "metadata": {},
   "source": [
    "## [作業]\n",
    "今天的作業希望大家能夠看看全球機器學習巨頭們在做的機器學習專案。以 google 為例，下圖是 Google 內部專案使用機器學習的數量，隨著時間進展，現在早已超過 2000 個專案在使用機器學習。"
   ]
  },
  {
   "cell_type": "markdown",
   "metadata": {},
   "source": [
    "![image](https://cdn-images-1.medium.com/max/800/1*U_L8qI8RmYS-MOBrYvXhSA.png)"
   ]
  },
  {
   "cell_type": "markdown",
   "metadata": {},
   "source": [
    "底下幫同學整理幾間知名企業的 blog 或機器學習網站 (自行搜尋也可)，這些網站都會整理最新的機器學習專案或者是技術文章，請挑選一篇文章閱讀並試著回答\n",
    "1. 專案的目標？ (要解決什麼問題）\n",
    "2. 使用的技術是？ (只需知道名稱即可，例如：使用 CNN 卷積神經網路做影像分類)\n",
    "3. 資料來源？ "
   ]
  },
  {
   "cell_type": "markdown",
   "metadata": {},
   "source": [
    "- [Google AI blog](https://ai.googleblog.com/)\n",
    "- [Facebook Research blog](https://research.fb.com/blog/)\n",
    "- [Apple machine learning journal](https://machinelearning.apple.com/)\n",
    "- [機器之心](https://www.jiqizhixin.com/)\n",
    "- [雷鋒網](http://www.leiphone.com/category/ai)"
   ]
  },
  {
   "cell_type": "code",
   "execution_count": null,
   "metadata": {},
   "outputs": [],
   "source": [
    "文章標題：\"Language Identification from Very Short Strings\" (Apple Machine Learning Journal Vol. 1, Issue 14 ∙ July 2019)\n",
    "\n",
    "1. 專案的目標？\n",
    "Ans：\n",
    "作者提到目前使用者介面與電腦溝通必須透過「自然語言處理(Natrual Language Processing, NLP))」，\n",
    "以往電腦需要透過大量閱讀使用者輸入字元，提升電腦辨識語言文字的能力，進而提供自動校正拼字、預測字元、智能客服等滿足使用者需求。\n",
    "專案團隊希望建立一套輸入少量字元達到高正確率的「語言文字辨識系統(Language Identification, LID)」。\n",
    "\n",
    "2. 使用的技術是？\n",
    "Ans：\n",
    "專案團隊使用技術名稱「雙向長短期記憶網路(bi-directional long short-term memory (bi-LSTM) neural networks)」進行輸入字元資料分析，\n",
    "藉此使用者僅需輸入少量字元，即可提升電腦辨識語言文字能力的正確率，且能夠判斷多國不同語言。\n",
    "\n",
    "3. 資料來源？\n",
    "Ans：\n",
    "使用者輸入多國不同語言的少量字元(英、西、法、德、義、葡、土、荷、瑞典、簡體、繁體、日文)等結構化資料。"
   ]
  }
 ],
 "metadata": {
  "kernelspec": {
   "display_name": "Python 3",
   "language": "python",
   "name": "python3"
  },
  "language_info": {
   "codemirror_mode": {
    "name": "ipython",
    "version": 3
   },
   "file_extension": ".py",
   "mimetype": "text/x-python",
   "name": "python",
   "nbconvert_exporter": "python",
   "pygments_lexer": "ipython3",
   "version": "3.7.3"
  }
 },
 "nbformat": 4,
 "nbformat_minor": 2
}
